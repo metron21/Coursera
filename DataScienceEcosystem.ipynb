{
 "cells": [
  {
   "cell_type": "markdown",
   "id": "1cec5903-a9b2-47fd-85c3-bc18dcde23fa",
   "metadata": {},
   "source": [
    "In this notebook, Data Science Tools and Ecosystem are summarized.\n"
   ]
  },
  {
   "cell_type": "markdown",
   "id": "bc870c10-23ac-4d85-b791-8e10417de761",
   "metadata": {
    "tags": []
   },
   "source": [
    "**Objectives:**\n",
    "- nonsql\n",
    "- Ruby\n",
    "- C\n"
   ]
  },
  {
   "cell_type": "markdown",
   "id": "092ed822-53a8-49f5-ab91-8a94d05b431e",
   "metadata": {},
   "source": [
    "Some of the popular languages that Data Scientists use are:"
   ]
  },
  {
   "cell_type": "markdown",
   "id": "50462978-82df-4f3f-af02-47d84bc03603",
   "metadata": {},
   "source": [
    "ordered list:\n",
    "1 Python\n",
    "2 R\n",
    "3 SQL"
   ]
  },
  {
   "cell_type": "markdown",
   "id": "8a383b61-0aed-4a45-b417-5e1f9c3ee474",
   "metadata": {},
   "source": [
    "Some of the commonly used libraries used by Data Scientists include:"
   ]
  },
  {
   "cell_type": "markdown",
   "id": "bd324b4e-dc40-462a-a7af-deb3983372d5",
   "metadata": {},
   "source": [
    "ordered list:\n",
    "1 Panda\n",
    "2 Scikit\n",
    "3 Numpy"
   ]
  },
  {
   "cell_type": "markdown",
   "id": "ee8aef64-7e24-4015-adc2-20bee431df16",
   "metadata": {},
   "source": [
    "Data Science Tools"
   ]
  },
  {
   "cell_type": "markdown",
   "id": "05e5b948-eeb6-48dd-bf5a-e1e5812ebee9",
   "metadata": {},
   "source": [
    "JupyterLite"
   ]
  },
  {
   "cell_type": "markdown",
   "id": "760c5a25-f7d4-42b9-926d-44c555d19912",
   "metadata": {},
   "source": [
    "Googlcollab"
   ]
  },
  {
   "cell_type": "markdown",
   "id": "5a938fc7-2ddc-4a1c-ad4e-eeb2835d1b6c",
   "metadata": {},
   "source": [
    "Jupyter Notepad"
   ]
  },
  {
   "cell_type": "markdown",
   "id": "b378a4ff-a0af-4bb7-ae0f-e898dda6dfe8",
   "metadata": {},
   "source": [
    "Below are a few examples of evaluating arithmetic expressions in Python."
   ]
  },
  {
   "cell_type": "markdown",
   "id": "d86b692c-6635-4aa2-8e5c-0640c80f24c5",
   "metadata": {},
   "source": [
    "This a simple arithmetic expression to mutiply then add integer"
   ]
  },
  {
   "cell_type": "code",
   "execution_count": 1,
   "id": "af1a7c1f-56d1-4350-9b1b-2caee9933c7e",
   "metadata": {
    "tags": []
   },
   "outputs": [
    {
     "data": {
      "text/plain": [
       "17"
      ]
     },
     "execution_count": 1,
     "metadata": {},
     "output_type": "execute_result"
    }
   ],
   "source": [
    "(3*4)+5"
   ]
  },
  {
   "cell_type": "markdown",
   "id": "67edc394-5db1-46cb-991d-edbd65ce3ba8",
   "metadata": {},
   "source": [
    "This will convert 200 minutes to hours by diving by 60\n"
   ]
  },
  {
   "cell_type": "code",
   "execution_count": 4,
   "id": "fe6059be-9e05-45dc-9f0b-b578643d1248",
   "metadata": {
    "tags": []
   },
   "outputs": [
    {
     "name": "stdout",
     "output_type": "stream",
     "text": [
      "3\n"
     ]
    }
   ],
   "source": [
    "print (int(200/60))"
   ]
  },
  {
   "cell_type": "markdown",
   "id": "547a24a5-b42e-49ba-a75d-8b8233e1bd06",
   "metadata": {},
   "source": [
    "Author: \n",
    "David Fawver"
   ]
  }
 ],
 "metadata": {
  "kernelspec": {
   "display_name": "Python",
   "language": "python",
   "name": "conda-env-python-py"
  },
  "language_info": {
   "codemirror_mode": {
    "name": "ipython",
    "version": 3
   },
   "file_extension": ".py",
   "mimetype": "text/x-python",
   "name": "python",
   "nbconvert_exporter": "python",
   "pygments_lexer": "ipython3",
   "version": "3.7.12"
  }
 },
 "nbformat": 4,
 "nbformat_minor": 5
}
